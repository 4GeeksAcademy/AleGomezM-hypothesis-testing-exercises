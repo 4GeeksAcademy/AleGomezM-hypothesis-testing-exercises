{
 "cells": [
  {
   "cell_type": "markdown",
   "id": "d9d036c6",
   "metadata": {},
   "source": [
    "# Problemas de prueba de hipótesis"
   ]
  },
  {
   "cell_type": "markdown",
   "id": "d157c4db",
   "metadata": {},
   "source": [
    "## Ejercicio 1\n",
    "\n",
    "Usted es un nutricionista que investiga dos tipos diferentes de dietas para ver si existe una diferencia significativa en la pérdida de peso después de un mes. Eliges dos grupos aleatorios de personas; un grupo sigue la primera dieta y el otro sigue la segunda. Al final del mes, se registra la pérdida de peso (en kg) de cada persona:\n",
    "\n",
    "| Diet 1 | Diet 2 |\n",
    "|:-------|:-------|\n",
    "| 2.0 | 3.0 |\n",
    "| 2.5 | 3.2 |\n",
    "| 3.0 | 3.1 |\n",
    "| 2.8 | 2.9 |\n",
    "| 2.3 | 2.8 |\n",
    "| 2.7 | 3.0 |\n",
    "| 2.5 | 3.2 |\n",
    "\n",
    "Con estos datos se busca responder a la siguiente pregunta: ¿Existe una diferencia significativa en la pérdida de peso promedio entre las personas que siguieron la primera dieta y las que siguieron la segunda dieta?\n",
    "\n",
    "Para sacar conclusiones, siga los siguientes puntos:\n",
    "\n",
    "-Enunciar la hipótesis: hipótesis nula y alternativa.\n",
    "-Realizar la prueba para comprobar la hipótesis. Puede utilizar la prueba t de Student.\n",
    "-Analizar las conclusiones."
   ]
  },
  {
   "cell_type": "code",
   "execution_count": 1,
   "id": "8e0f3cf0",
   "metadata": {},
   "outputs": [],
   "source": [
    "import numpy as np\n",
    "from scipy.stats import norm\n",
    "import statsmodels.stats.api as sms\n",
    "from scipy import stats"
   ]
  },
  {
   "cell_type": "code",
   "execution_count": 2,
   "id": "92c1f2fb",
   "metadata": {},
   "outputs": [
    {
     "name": "stdout",
     "output_type": "stream",
     "text": [
      "ShapiroResult(statistic=np.float64(0.9808454935519088), pvalue=np.float64(0.9635409177367069))\n",
      "ShapiroResult(statistic=np.float64(0.934584156825349), pvalue=np.float64(0.5905246580529597))\n"
     ]
    }
   ],
   "source": [
    "# Establecemos el nivel de significación = 0.05\n",
    "\n",
    "# hipotesis uno a  considerar\n",
    "\n",
    "# h0: las distribciones de ambos grupos es normal\n",
    "# h1: las distribciones de ambos grupos no son normales\n",
    "\n",
    "dieta_uno= [2, 2.5, 3, 2.8, 2.3, 2.7, 2.5]\n",
    "dieta_dos= [3, 3.2, 3.1, 2.9, 2.8, 3, 3.2]\n",
    "\n",
    "print(stats.shapiro(dieta_uno))\n",
    "print(stats.shapiro(dieta_dos))\n"
   ]
  },
  {
   "cell_type": "markdown",
   "id": "0bb10c39",
   "metadata": {},
   "source": [
    "Hemos usado el test  de  Shapiro-Wilk ya que las muestras tomadas son pocas pero superiores a 3, con ellas se ha comprobado que los valores de p en ambos grupos son superiores a 0.05 y el valor de la estadistica es cercano a 1, por lo que no rechazamos la hipótesis nula y asumimos que los datos siguen una distribución normal, dando aprobación para seguir con el ejercicio."
   ]
  },
  {
   "cell_type": "code",
   "execution_count": 3,
   "id": "1dc743f2",
   "metadata": {},
   "outputs": [
    {
     "name": "stdout",
     "output_type": "stream",
     "text": [
      "0.15767770055358\n"
     ]
    }
   ],
   "source": [
    "# Segunda hipotesis\n",
    "\n",
    "# h0: las varianzas de ambos grupos son iguales\n",
    "# h1: las varianzas de ambos grupos no son iguales\n",
    "\n",
    "print(stats.levene(dieta_uno, dieta_dos).pvalue)"
   ]
  },
  {
   "cell_type": "markdown",
   "id": "d41c2a25",
   "metadata": {},
   "source": [
    "El valor de p obtenido es mayor al nivel de significación establecido por lo que no rechazamos la hipótesis nula y asumimos que la varianza entre grupos no es distinta. Dicho esto podemos aplicar el t-test de intependencia."
   ]
  },
  {
   "cell_type": "code",
   "execution_count": 4,
   "id": "1870f6de",
   "metadata": {},
   "outputs": [
    {
     "name": "stdout",
     "output_type": "stream",
     "text": [
      "Estadística t: -3.5383407969933938\n",
      "Valor p: 0.004083270191713912\n",
      "Rechazamos la hipótesis nula, hay evidencia estadística significativa de que existe una diferencia en la perdida de peso entre los grupos.\n"
     ]
    }
   ],
   "source": [
    "# Evaluamos la hipotesis principal\n",
    "t_stat, p_valor = stats.ttest_ind(dieta_uno, dieta_dos)\n",
    "\n",
    "# h0: No existe una diferencia significativa en la pérdida de peso promedio de ambos grupos\n",
    "# h1: Existe una diferencia significativa en la pérdida de peso promedio de ambos grupos\n",
    "\n",
    "# Definir el nivel alpha (0.05 es comúnmente utilizado)\n",
    "nivel_alpha = 0.05\n",
    "\n",
    "print(\"Estadística t:\", t_stat)\n",
    "print(\"Valor p:\", p_valor)\n",
    "\n",
    "# Realizar la prueba de hipótesis\n",
    "if p_valor < nivel_alpha:\n",
    "    print(\"Rechazamos la hipótesis nula, hay evidencia estadística significativa de que existe una diferencia en la perdida de peso entre los grupos.\")\n",
    "else:\n",
    "    print(\"No podemos rechazar la hipótesis nula, no hay evidencia estadística suficiente para afirmar que exista una diferencia en la perdida de peso entre los grupos.\")"
   ]
  },
  {
   "cell_type": "code",
   "execution_count": 8,
   "id": "82d39597",
   "metadata": {},
   "outputs": [
    {
     "name": "stdout",
     "output_type": "stream",
     "text": [
      "La media del grupo uno es 2.54\n",
      "La media del grupo dos es 3.03\n"
     ]
    }
   ],
   "source": [
    "media_uno=np.mean(dieta_uno)\n",
    "media_dos=np.mean(dieta_dos)\n",
    "\n",
    "print(f'La media del grupo uno es {media_uno:.2f}')\n",
    "print(f'La media del grupo dos es {media_dos:.2f}')"
   ]
  },
  {
   "cell_type": "markdown",
   "id": "306e07e5",
   "metadata": {},
   "source": [
    "De lo anterior se puede deducir que el grupo dos tiene un promedio de perdida de peso mayor, por lo que si este es el objetivo de la dieta, sería la dieta a recomendar."
   ]
  },
  {
   "cell_type": "markdown",
   "id": "f432e18e",
   "metadata": {},
   "source": [
    "## ANOVA\n",
    "\n",
    "**ANOVA** (*Analysis of Variance - Análisis de variación*) Es una técnica estadística utilizada para comparar las medidas de dos o más grupos. La idea detrás de ANOVA es descomponer la variabilidad total de los datos en dos componentes: variabilidad entre grupos y variabilidad dentro de los grupos:\n",
    "\n",
    "- **Variabilidad entre grupos**: Esta variabilidad se refiere a las diferencias entre las medias del grupo. Si esta variabilidad es considerablemente mayor que la variabilidad dentro del grupo, podría ser una indicación de que al menos una de las medias del grupo es diferente.\n",
    "- **Variabilidad dentro del grupo**: Esta variabilidad se refiere a la dispersión de los datos dentro de cada grupo. Si todos los grupos tienen una variabilidad similar, entonces cualquier diferencia notable en las medias de los grupos podría considerarse significativa.\n",
    "\n",
    "Las hipótesis en ANOVA suelen incluir:\n",
    "\n",
    "- **Hipótesis nula** ($H₀$): Las medias de todos los grupos son iguales.\n",
    "- **Hipótesis alternativa** ($H₁$): Al menos una de las medias del grupo es diferente.\n",
    "\n",
    "Si el resultado de la prueba ANOVA es significativo (por ejemplo, un valor p inferior a un umbral como 0,05), esto sugiere que al menos la media de un grupo es diferente."
   ]
  },
  {
   "cell_type": "markdown",
   "id": "fc5f3721",
   "metadata": {},
   "source": [
    "## Ejercicio 2\n",
    "\n",
    "Un agricultor decide probar tres tipos diferentes de fertilizantes para determinar si alguno es superior en términos de producción de maíz. El agricultor planta maíz en 15 parcelas idénticas y utiliza los tres fertilizantes (5 parcelas para cada tipo). Al final de la temporada mide el rendimiento de maíz (en kg) de cada parcela, con el siguiente resultado:\n",
    "\n",
    "| Fertilizante 1 | Fertilizante 2 | Fertilizante 3 |\n",
    "|:-------------|:-------------|:-------------|\n",
    "| 20 | 22 | 24 |\n",
    "| 21 | 21 | 23 |\n",
    "| 20 | 23 | 22 |\n",
    "| 19 | 22 | 23 |\n",
    "| 20 | 21 | 24 |\n",
    "\n",
    "Con estos datos busca responder la siguiente pregunta: ¿Existe una diferencia significativa en el rendimiento promedio del maíz entre los tres tipos de fertilizantes?\n",
    "\n",
    "Para ayudarte, sigue los siguientes puntos:\n",
    "\n",
    "-Enunciar la hipótesis: hipótesis nula y alternativa.\n",
    "-Realizar la prueba ANOVA.\n",
    "-Analizar las conclusiones.\n",
    "-Si un fertilizante es mejor que otro, ¿cómo podemos saberlo?"
   ]
  },
  {
   "cell_type": "code",
   "execution_count": 9,
   "id": "eecad0ca",
   "metadata": {},
   "outputs": [
    {
     "name": "stdout",
     "output_type": "stream",
     "text": [
      "ShapiroResult(statistic=np.float64(0.8834906936019853), pvalue=np.float64(0.32542950716414576))\n",
      "ShapiroResult(statistic=np.float64(0.8810376385817489), pvalue=np.float64(0.3140395561440371))\n",
      "ShapiroResult(statistic=np.float64(0.8810376385817489), pvalue=np.float64(0.3140395561440371))\n"
     ]
    }
   ],
   "source": [
    "# Establecemos el nivel de significación = 0.05\n",
    "\n",
    "# hipotesis uno a  considerar\n",
    "\n",
    "# h0: las distribciones de los grupos de los 3 fertilizantes es normal\n",
    "# h1: las distribciones de los grupos de los 3 fertilizantes no es normal\n",
    "\n",
    "fertilizante_uno= [20, 21, 20, 19, 20]\n",
    "fertilizante_dos= [22, 21, 23, 22, 21]\n",
    "fertilizante_tres= [24, 23, 22, 23, 24]\n",
    "\n",
    "print(stats.shapiro(fertilizante_uno))\n",
    "print(stats.shapiro(fertilizante_dos))\n",
    "print(stats.shapiro(fertilizante_tres))"
   ]
  },
  {
   "cell_type": "markdown",
   "id": "f262b49e",
   "metadata": {},
   "source": [
    "Hemos usado el test  de  Shapiro-Wilk ya que las muestras tomadas son pocas pero superiores a 3, con ellas se ha comprobado que los valores de p en ambos grupos son superiores a 0.05 y el valor de la estadistica es cercano a 1, por lo que no rechazamos la hipótesis nula y asumimos que los datos siguen una distribución normal, dando aprobación para seguir con el ejercicio."
   ]
  },
  {
   "cell_type": "code",
   "execution_count": 10,
   "id": "aef58de0",
   "metadata": {},
   "outputs": [
    {
     "name": "stdout",
     "output_type": "stream",
     "text": [
      "0.8039599174006208\n"
     ]
    }
   ],
   "source": [
    "# Segunda hipotesis\n",
    "\n",
    "# h0: las varianzas de los 3 grupos son iguales\n",
    "# h1: las varianzas de los 3 grupos no son iguales\n",
    "\n",
    "print(stats.levene(fertilizante_uno, fertilizante_dos, fertilizante_tres).pvalue)"
   ]
  },
  {
   "cell_type": "markdown",
   "id": "316164e0",
   "metadata": {},
   "source": [
    "El valor de p obtenido es mayor al nivel de significación establecido por lo que no rechazamos la hipótesis nula y asumimos que la varianza entre los 3 grupos no es distinta. Dicho esto podemos aplicar el test Anova."
   ]
  },
  {
   "cell_type": "code",
   "execution_count": 11,
   "id": "018a8747",
   "metadata": {},
   "outputs": [
    {
     "name": "stdout",
     "output_type": "stream",
     "text": [
      "Estadística t: 20.315789473684188\n",
      "Valor p: 0.00014047824793190472\n",
      "Rechazamos la hipótesis nula, hay evidencia estadística significativa de que existe una diferencia en el rendimiento promedio del maíz entre los tres tipos de fertilizantes.\n"
     ]
    }
   ],
   "source": [
    "# Evaluamos la hipotesis principal\n",
    "t_stat1, p_valor1 = stats.f_oneway(fertilizante_uno, fertilizante_dos, fertilizante_tres)\n",
    "\n",
    "# h0: No existe una diferencia significativa en el rendimiento promedio del maíz entre los tres tipos de fertilizantes\n",
    "# h1: Existe una diferencia significativa en el rendimiento promedio del maíz entre los tres tipos de fertilizantes\n",
    "\n",
    "# El nivel alpha (0.05 es comúnmente utilizado)\n",
    "\n",
    "print(\"Estadística t:\", t_stat1)\n",
    "print(\"Valor p:\", p_valor1)\n",
    "\n",
    "# Realizar la prueba de hipótesis\n",
    "if p_valor1 < nivel_alpha:\n",
    "    print(\"Rechazamos la hipótesis nula, hay evidencia estadística significativa de que existe una diferencia en el rendimiento promedio del maíz entre los tres tipos de fertilizantes.\")\n",
    "else:\n",
    "    print(\"No podemos rechazar la hipótesis nula, no hay evidencia estadística suficiente para afirmar que exista una diferencia en el rendimiento promedio del maíz entre los tres tipos de fertilizantes.\")"
   ]
  },
  {
   "cell_type": "code",
   "execution_count": 12,
   "id": "d114d5fc",
   "metadata": {},
   "outputs": [
    {
     "name": "stdout",
     "output_type": "stream",
     "text": [
      "La media del grupo uno es 20.00\n",
      "La media del grupo dos es 21.80\n",
      "La media del grupo tres es 23.20\n"
     ]
    }
   ],
   "source": [
    "media_funo=np.mean(fertilizante_uno)\n",
    "media_fdos=np.mean(fertilizante_dos)\n",
    "media_ftres=np.mean(fertilizante_tres)\n",
    "\n",
    "print(f'La media del grupo uno es {media_funo:.2f}')\n",
    "print(f'La media del grupo dos es {media_fdos:.2f}')\n",
    "print(f'La media del grupo tres es {media_ftres:.2f}')"
   ]
  },
  {
   "cell_type": "markdown",
   "id": "2556cf93",
   "metadata": {},
   "source": [
    "Ya que se comprobo que la diferencia es significatica entre el rendimiento de los 3 fertilizantes, de las medias obtenidas podemos inferir que el fertilizante tres es el mejor ya que obtenenos mayor rendimiento de maíz (en kg) por tanto mayor produccion de maiz."
   ]
  }
 ],
 "metadata": {
  "kernelspec": {
   "display_name": "Python 3",
   "language": "python",
   "name": "python3"
  },
  "language_info": {
   "codemirror_mode": {
    "name": "ipython",
    "version": 3
   },
   "file_extension": ".py",
   "mimetype": "text/x-python",
   "name": "python",
   "nbconvert_exporter": "python",
   "pygments_lexer": "ipython3",
   "version": "3.11.4"
  }
 },
 "nbformat": 4,
 "nbformat_minor": 5
}
